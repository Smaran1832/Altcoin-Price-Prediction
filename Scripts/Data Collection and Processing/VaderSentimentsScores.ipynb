{
 "cells": [
  {
   "cell_type": "code",
   "execution_count": null,
   "metadata": {},
   "outputs": [],
   "source": [
    "import numpy as np\n",
    "import pandas as pd"
   ]
  },
  {
   "cell_type": "code",
   "execution_count": null,
   "metadata": {},
   "outputs": [],
   "source": [
    "# import SentimentIntensityAnalyzer class\n",
    "# from vaderSentiment.vaderSentiment module. \n",
    "from vaderSentiment.vaderSentiment import SentimentIntensityAnalyzer\n",
    "\n",
    "# function to print sentiments\n",
    "# of the sentence.\n",
    "def sentiment_scores(sentence):\n",
    "\n",
    "\t# Create a SentimentIntensityAnalyzer object.\n",
    "\tsid_obj = SentimentIntensityAnalyzer()\n",
    "\n",
    "\t# polarity_scores method of SentimentIntensityAnalyzer\n",
    "\t# object gives a sentiment dictionary.\n",
    "\t# which contains pos, neg, neu, and compound scores.\n",
    "\tsentiment_dict = sid_obj.polarity_scores(sentence)\n",
    "\t\n",
    "\treturn sentiment_dict\n",
    "\n"
   ]
  },
  {
   "cell_type": "code",
   "execution_count": null,
   "metadata": {},
   "outputs": [],
   "source": [
    "df=pd.read_csv(\"2016//raw_datewise_2016.csv\")"
   ]
  },
  {
   "cell_type": "code",
   "execution_count": null,
   "metadata": {},
   "outputs": [],
   "source": [
    "scores_pos=[]\n",
    "scores_neg=[]\n",
    "scores_neu=[]\n",
    "scores_com=[]\n",
    "# count=0\n",
    "for tweet in df[\"Tweet\"]:\n",
    "  sentiments=sentiment_scores(tweet)\n",
    "  try:\n",
    "    scores_pos.append(sentiments['pos'])\n",
    "    scores_neg.append(sentiments['neg'])\n",
    "    scores_neu.append(sentiments['neu'])\n",
    "    scores_com.append(sentiments['compound'])\n",
    "  except:\n",
    "    scores_pos.append(np.nan) \n",
    "    scores_neg.append(np.nan) \n",
    "    scores_neu.append(np.nan) \n",
    "    scores_com.append(np.nan) \n",
    "  # count+=1    \n",
    "  # if count == 49:\n",
    "  #   break    \n",
    "df[\"vader_pos\"]=scores_pos\n",
    "df[\"vader_neg\"]=scores_neg\n",
    "df[\"vader_com\"]=scores_com\n",
    "df[\"vader_neu\"]=scores_neu\n",
    "#Creating a file\n",
    "df.to_csv(\"trial_vader.csv\")"
   ]
  }
 ],
 "metadata": {
  "kernelspec": {
   "display_name": "Python 3",
   "language": "python",
   "name": "python3"
  },
  "language_info": {
   "name": "python",
   "version": "3.9.13"
  },
  "orig_nbformat": 4,
  "vscode": {
   "interpreter": {
    "hash": "a390a84a9b37e0e690eddf20c3b7c5c68f879ad5e9909cce4d96802a8f5875ac"
   }
  }
 },
 "nbformat": 4,
 "nbformat_minor": 2
}
