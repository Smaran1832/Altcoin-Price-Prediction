{
  "nbformat": 4,
  "nbformat_minor": 0,
  "metadata": {
    "colab": {
      "provenance": []
    },
    "kernelspec": {
      "name": "python3",
      "display_name": "Python 3"
    },
    "language_info": {
      "name": "python"
    }
  },
  "cells": [
    {
      "cell_type": "code",
      "source": [
        "!pip install mlxtend"
      ],
      "metadata": {
        "id": "89XflWV2pivv"
      },
      "execution_count": null,
      "outputs": []
    },
    {
      "cell_type": "code",
      "source": [
        "import joblib\n",
        "import sys\n",
        "sys.modules['sklearn.externals.joblib'] = joblib"
      ],
      "metadata": {
        "id": "1K6qVQQtraox"
      },
      "execution_count": null,
      "outputs": []
    },
    {
      "cell_type": "code",
      "execution_count": null,
      "metadata": {
        "id": "ABZmSEHlCnKF"
      },
      "outputs": [],
      "source": [
        "import pandas as pd\n",
        "from mlxtend.feature_selection import SequentialFeatureSelector"
      ]
    },
    {
      "cell_type": "code",
      "source": [
        "df = pd.read_excel(r\"/content/2022FeatureSelectionTry1.xlsx\", na_values='?',index_col=0)"
      ],
      "metadata": {
        "id": "jKxJgMCrGcVC"
      },
      "execution_count": null,
      "outputs": []
    },
    {
      "cell_type": "code",
      "source": [
        "df.head()"
      ],
      "metadata": {
        "id": "-O-GmBSMKAxp"
      },
      "execution_count": null,
      "outputs": []
    },
    {
      "cell_type": "code",
      "source": [
        "df.columns"
      ],
      "metadata": {
        "id": "NsJgIbKcvWRU"
      },
      "execution_count": null,
      "outputs": []
    },
    {
      "cell_type": "code",
      "source": [
        "df.shape"
      ],
      "metadata": {
        "id": "opbAHkiEKQ1X",
        "colab": {
          "base_uri": "https://localhost:8080/"
        },
        "outputId": "dfd71ae8-f448-46fc-9b11-8435f34d7759"
      },
      "execution_count": null,
      "outputs": [
        {
          "output_type": "execute_result",
          "data": {
            "text/plain": [
              "(2546, 155)"
            ]
          },
          "metadata": {},
          "execution_count": 17
        }
      ]
    },
    {
      "cell_type": "code",
      "source": [
        "s = df.shape"
      ],
      "metadata": {
        "id": "idTS0b_wKlju"
      },
      "execution_count": null,
      "outputs": []
    },
    {
      "cell_type": "code",
      "source": [
        "T = s[0]*0.75 + 1\n",
        "T = int(T)"
      ],
      "metadata": {
        "id": "IATsqqfsKdXv"
      },
      "execution_count": null,
      "outputs": []
    },
    {
      "cell_type": "code",
      "source": [
        "X_train, X_test = df.iloc[0:T,:-1], df.iloc[T:,:-1]\n",
        "y_train, y_test = df.iloc[0:T,-1], df.iloc[T:,-1]"
      ],
      "metadata": {
        "id": "sIkRhbpEKiPu"
      },
      "execution_count": null,
      "outputs": []
    },
    {
      "cell_type": "code",
      "source": [
        "from sklearn.ensemble import RandomForestClassifier"
      ],
      "metadata": {
        "id": "hkfGH-NmK2bV"
      },
      "execution_count": null,
      "outputs": []
    },
    {
      "cell_type": "code",
      "source": [
        "forward_feature_selection = SequentialFeatureSelector(RandomForestClassifier(n_jobs=-1),\n",
        "                                                     k_features= (1,154),\n",
        "                                                     forward=True,\n",
        "                                                     floating=False,\n",
        "                                                     verbose=2,\n",
        "                                                     scoring= \"accuracy\",\n",
        "                                                     cv= 5).fit(X_train, y_train)"
      ],
      "metadata": {
        "id": "d9UIH3vaK8Ad"
      },
      "execution_count": null,
      "outputs": []
    },
    {
      "cell_type": "code",
      "source": [
        "forward_feature_selection.k_feature_names_"
      ],
      "metadata": {
        "id": "7DFBuUAUTwcr"
      },
      "execution_count": null,
      "outputs": []
    },
    {
      "cell_type": "code",
      "source": [
        "forward_feature_selection.k_score_"
      ],
      "metadata": {
        "id": "AjF-FDEkTyaY"
      },
      "execution_count": null,
      "outputs": []
    },
    {
      "cell_type": "code",
      "source": [
        "pd.DataFrame.from_dict(forward_feature_selection.get_metric_dict()).T"
      ],
      "metadata": {
        "id": "tlKximSgT2dw"
      },
      "execution_count": null,
      "outputs": []
    },
    {
      "cell_type": "code",
      "source": [
        "forward_feature_selection = SequentialFeatureSelector(RandomForestClassifier(n_jobs=-1),\n",
        "                                                     k_features= (1,154),\n",
        "                                                     forward=True,\n",
        "                                                     floating=False,\n",
        "                                                     verbose=2,\n",
        "                                                     scoring= \"precision\",\n",
        "                                                     cv= 5).fit(X_train, y_train)"
      ],
      "metadata": {
        "id": "EnyU4H-SsBvM"
      },
      "execution_count": null,
      "outputs": []
    },
    {
      "cell_type": "code",
      "source": [
        "forward_feature_selection.k_feature_names_"
      ],
      "metadata": {
        "id": "amtqwyRd5Uuq"
      },
      "execution_count": null,
      "outputs": []
    },
    {
      "cell_type": "code",
      "source": [
        "forward_feature_selection.k_score_"
      ],
      "metadata": {
        "id": "-kLw96W65oRV"
      },
      "execution_count": null,
      "outputs": []
    },
    {
      "cell_type": "code",
      "source": [
        "from sklearn import datasets, linear_model, metrics\n",
        "forward_feature_selection = SequentialFeatureSelector(linear_model.LogisticRegression(),\n",
        "                                                     k_features= (1,154),\n",
        "                                                     forward=True,\n",
        "                                                     floating=False,\n",
        "                                                     verbose=2,\n",
        "                                                     scoring= \"accuracy\",\n",
        "                                                     cv= 5).fit(X_train, y_train)"
      ],
      "metadata": {
        "id": "rujcrk7S5o1i"
      },
      "execution_count": null,
      "outputs": []
    },
    {
      "cell_type": "code",
      "source": [
        "forward_feature_selection.k_feature_names_"
      ],
      "metadata": {
        "id": "Kqt2jaZq2Agt"
      },
      "execution_count": null,
      "outputs": []
    },
    {
      "cell_type": "code",
      "source": [
        "forward_feature_selection.k_score_"
      ],
      "metadata": {
        "id": "VAFkMNZN2E6m"
      },
      "execution_count": null,
      "outputs": []
    },
    {
      "cell_type": "code",
      "source": [
        "from sklearn import svm\n",
        "forward_feature_selection = SequentialFeatureSelector(svm.SVC(),\n",
        "                                                     k_features= (1,154),\n",
        "                                                     forward=True,\n",
        "                                                     floating=False,\n",
        "                                                     verbose=2,\n",
        "                                                     scoring= \"accuracy\",\n",
        "                                                     cv= 5).fit(X_train, y_train)"
      ],
      "metadata": {
        "id": "zHxPhrzh2GpS"
      },
      "execution_count": null,
      "outputs": []
    },
    {
      "cell_type": "code",
      "source": [
        "forward_feature_selection.k_feature_names_"
      ],
      "metadata": {
        "id": "1jucfNWz2gz8"
      },
      "execution_count": null,
      "outputs": []
    },
    {
      "cell_type": "code",
      "source": [
        "forward_feature_selection.k_score_"
      ],
      "metadata": {
        "id": "R_XpLcQk3Lg2"
      },
      "execution_count": null,
      "outputs": []
    },
    {
      "cell_type": "code",
      "source": [
        "from sklearn.discriminant_analysis import LinearDiscriminantAnalysis\n",
        "forward_feature_selection = SequentialFeatureSelector(LinearDiscriminantAnalysis(),\n",
        "                                                     k_features= (1,154),\n",
        "                                                     forward=True,\n",
        "                                                     floating=False,\n",
        "                                                     verbose=2,\n",
        "                                                     scoring= \"accuracy\",\n",
        "                                                     cv= 5).fit(X_train, y_train)"
      ],
      "metadata": {
        "id": "Jm9KU9Fu3NNm"
      },
      "execution_count": null,
      "outputs": []
    },
    {
      "cell_type": "code",
      "source": [
        "forward_feature_selection.k_feature_names_"
      ],
      "metadata": {
        "id": "89WphQYe4sU5"
      },
      "execution_count": null,
      "outputs": []
    },
    {
      "cell_type": "code",
      "source": [
        "forward_feature_selection.k_score_"
      ],
      "metadata": {
        "id": "QAhhtscP4xJD"
      },
      "execution_count": null,
      "outputs": []
    },
    {
      "cell_type": "code",
      "source": [
        "from lightgbm import LGBMClassifier\n",
        "forward_feature_selection = SequentialFeatureSelector(LGBMClassifier(),\n",
        "                                                     k_features= (1,154),\n",
        "                                                     forward=True,\n",
        "                                                     floating=False,\n",
        "                                                     verbose=2,\n",
        "                                                     scoring= \"accuracy\",\n",
        "                                                     cv= 5).fit(X_train, y_train)"
      ],
      "metadata": {
        "id": "NTroOkRa4263"
      },
      "execution_count": null,
      "outputs": []
    },
    {
      "cell_type": "code",
      "source": [
        "forward_feature_selection.k_feature_names_"
      ],
      "metadata": {
        "id": "kanpNgcz5JQ0"
      },
      "execution_count": null,
      "outputs": []
    },
    {
      "cell_type": "code",
      "source": [
        "forward_feature_selection.k_score_"
      ],
      "metadata": {
        "id": "CcGq7xxH5Mhv"
      },
      "execution_count": null,
      "outputs": []
    },
    {
      "cell_type": "code",
      "source": [
        "from sklearn.neural_network import MLPClassifier\n",
        "forward_feature_selection = SequentialFeatureSelector(MLPClassifier(),\n",
        "                                                     k_features= (1,154),\n",
        "                                                     forward=True,\n",
        "                                                     floating=False,\n",
        "                                                     verbose=2,\n",
        "                                                     scoring= \"accuracy\",\n",
        "                                                     cv= 5).fit(X_train, y_train)"
      ],
      "metadata": {
        "id": "OfuF3IZG5OPH"
      },
      "execution_count": null,
      "outputs": []
    },
    {
      "cell_type": "code",
      "source": [
        "forward_feature_selection.k_feature_names_"
      ],
      "metadata": {
        "id": "d7rKGBAf5aGr"
      },
      "execution_count": null,
      "outputs": []
    },
    {
      "cell_type": "code",
      "source": [
        "forward_feature_selection.k_score_"
      ],
      "metadata": {
        "id": "xaqBGfGF5awr"
      },
      "execution_count": null,
      "outputs": []
    },
    {
      "cell_type": "code",
      "source": [
        "from xgboost import XGBClassifier\n",
        "forward_feature_selection = SequentialFeatureSelector(XGBClassifier(),\n",
        "                                                     k_features= (1,154),\n",
        "                                                     forward=True,\n",
        "                                                     floating=False,\n",
        "                                                     verbose=2,\n",
        "                                                     scoring= \"accuracy\",\n",
        "                                                     cv= 5).fit(X_train, y_train)"
      ],
      "metadata": {
        "id": "h2j--rWz5f8Y"
      },
      "execution_count": null,
      "outputs": []
    },
    {
      "cell_type": "code",
      "source": [
        "forward_feature_selection.k_feature_names_"
      ],
      "metadata": {
        "id": "NSAjm3kmF1Rv"
      },
      "execution_count": null,
      "outputs": []
    },
    {
      "cell_type": "code",
      "source": [
        "forward_feature_selection.k_score_"
      ],
      "metadata": {
        "id": "8DbxLedHGA2s"
      },
      "execution_count": null,
      "outputs": []
    },
    {
      "cell_type": "code",
      "source": [
        "from sklearn.ensemble import GradientBoostingClassifier\n",
        "forward_feature_selection = SequentialFeatureSelector(GradientBoostingClassifier(),\n",
        "                                                     k_features= (1,154),\n",
        "                                                     forward=True,\n",
        "                                                     floating=False,\n",
        "                                                     verbose=2,\n",
        "                                                     scoring= \"accuracy\",\n",
        "                                                     cv= 5).fit(X_train, y_train)"
      ],
      "metadata": {
        "id": "SEv1R4m8Hk-O"
      },
      "execution_count": null,
      "outputs": []
    },
    {
      "cell_type": "code",
      "source": [
        "forward_feature_selection.k_feature_names_"
      ],
      "metadata": {
        "id": "4fjUZNtJHvxl"
      },
      "execution_count": null,
      "outputs": []
    },
    {
      "cell_type": "code",
      "source": [
        "forward_feature_selection.k_score_"
      ],
      "metadata": {
        "id": "zZ-2rBakHyQT"
      },
      "execution_count": null,
      "outputs": []
    }
  ]
}