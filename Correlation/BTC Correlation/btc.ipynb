{
 "cells": [
  {
   "cell_type": "code",
   "execution_count": 7,
   "metadata": {},
   "outputs": [],
   "source": [
    "import pandas as pd"
   ]
  },
  {
   "cell_type": "code",
   "execution_count": 8,
   "metadata": {},
   "outputs": [
    {
     "data": {
      "text/html": [
       "<div>\n",
       "<style scoped>\n",
       "    .dataframe tbody tr th:only-of-type {\n",
       "        vertical-align: middle;\n",
       "    }\n",
       "\n",
       "    .dataframe tbody tr th {\n",
       "        vertical-align: top;\n",
       "    }\n",
       "\n",
       "    .dataframe thead th {\n",
       "        text-align: right;\n",
       "    }\n",
       "</style>\n",
       "<table border=\"1\" class=\"dataframe\">\n",
       "  <thead>\n",
       "    <tr style=\"text-align: right;\">\n",
       "      <th></th>\n",
       "      <th>Date</th>\n",
       "      <th>Open</th>\n",
       "      <th>High</th>\n",
       "      <th>Low</th>\n",
       "      <th>Close</th>\n",
       "    </tr>\n",
       "  </thead>\n",
       "  <tbody>\n",
       "    <tr>\n",
       "      <th>0</th>\n",
       "      <td>2016-01-01</td>\n",
       "      <td>434.334</td>\n",
       "      <td>436.062</td>\n",
       "      <td>431.870</td>\n",
       "      <td>433.307</td>\n",
       "    </tr>\n",
       "    <tr>\n",
       "      <th>1</th>\n",
       "      <td>2016-01-02</td>\n",
       "      <td>434.334</td>\n",
       "      <td>375.883</td>\n",
       "      <td>372.920</td>\n",
       "      <td>374.445</td>\n",
       "    </tr>\n",
       "    <tr>\n",
       "      <th>2</th>\n",
       "      <td>2016-01-03</td>\n",
       "      <td>434.334</td>\n",
       "      <td>435.917</td>\n",
       "      <td>424.568</td>\n",
       "      <td>424.568</td>\n",
       "    </tr>\n",
       "    <tr>\n",
       "      <th>3</th>\n",
       "      <td>2016-01-04</td>\n",
       "      <td>434.334</td>\n",
       "      <td>422.081</td>\n",
       "      <td>417.960</td>\n",
       "      <td>420.829</td>\n",
       "    </tr>\n",
       "    <tr>\n",
       "      <th>4</th>\n",
       "      <td>2016-01-05</td>\n",
       "      <td>434.334</td>\n",
       "      <td>452.445</td>\n",
       "      <td>441.776</td>\n",
       "      <td>444.599</td>\n",
       "    </tr>\n",
       "    <tr>\n",
       "      <th>...</th>\n",
       "      <td>...</td>\n",
       "      <td>...</td>\n",
       "      <td>...</td>\n",
       "      <td>...</td>\n",
       "      <td>...</td>\n",
       "    </tr>\n",
       "    <tr>\n",
       "      <th>2552</th>\n",
       "      <td>2022-12-27</td>\n",
       "      <td>16919.290</td>\n",
       "      <td>16959.850</td>\n",
       "      <td>16642.070</td>\n",
       "      <td>16717.170</td>\n",
       "    </tr>\n",
       "    <tr>\n",
       "      <th>2553</th>\n",
       "      <td>2022-12-28</td>\n",
       "      <td>16716.400</td>\n",
       "      <td>16768.170</td>\n",
       "      <td>16497.560</td>\n",
       "      <td>16552.570</td>\n",
       "    </tr>\n",
       "    <tr>\n",
       "      <th>2554</th>\n",
       "      <td>2022-12-29</td>\n",
       "      <td>16552.320</td>\n",
       "      <td>16651.760</td>\n",
       "      <td>16508.680</td>\n",
       "      <td>16642.340</td>\n",
       "    </tr>\n",
       "    <tr>\n",
       "      <th>2555</th>\n",
       "      <td>2022-12-30</td>\n",
       "      <td>16641.330</td>\n",
       "      <td>16643.430</td>\n",
       "      <td>16408.480</td>\n",
       "      <td>16602.590</td>\n",
       "    </tr>\n",
       "    <tr>\n",
       "      <th>2556</th>\n",
       "      <td>2022-12-31</td>\n",
       "      <td>16603.670</td>\n",
       "      <td>16628.990</td>\n",
       "      <td>16517.520</td>\n",
       "      <td>16547.500</td>\n",
       "    </tr>\n",
       "  </tbody>\n",
       "</table>\n",
       "<p>2557 rows × 5 columns</p>\n",
       "</div>"
      ],
      "text/plain": [
       "           Date       Open       High        Low      Close\n",
       "0    2016-01-01    434.334    436.062    431.870    433.307\n",
       "1    2016-01-02    434.334    375.883    372.920    374.445\n",
       "2    2016-01-03    434.334    435.917    424.568    424.568\n",
       "3    2016-01-04    434.334    422.081    417.960    420.829\n",
       "4    2016-01-05    434.334    452.445    441.776    444.599\n",
       "...         ...        ...        ...        ...        ...\n",
       "2552 2022-12-27  16919.290  16959.850  16642.070  16717.170\n",
       "2553 2022-12-28  16716.400  16768.170  16497.560  16552.570\n",
       "2554 2022-12-29  16552.320  16651.760  16508.680  16642.340\n",
       "2555 2022-12-30  16641.330  16643.430  16408.480  16602.590\n",
       "2556 2022-12-31  16603.670  16628.990  16517.520  16547.500\n",
       "\n",
       "[2557 rows x 5 columns]"
      ]
     },
     "execution_count": 8,
     "metadata": {},
     "output_type": "execute_result"
    }
   ],
   "source": [
    "df = pd.read_excel(\"BTC_Bucket_Based.xlsx\")\n",
    "df = df.drop(columns=['BTC_Change', 'BTC_Change_New', 'BTC_Change_Exp', 'Unnamed: 0', 'BTC_Change_Num', 'Volume', 'Market Cap'])\n",
    "df['Date'] = pd.to_datetime(df['Date'])\n",
    "df"
   ]
  },
  {
   "cell_type": "code",
   "execution_count": 9,
   "metadata": {},
   "outputs": [],
   "source": [
    "import numpy as np"
   ]
  },
  {
   "cell_type": "code",
   "execution_count": 10,
   "metadata": {},
   "outputs": [],
   "source": [
    "import matplotlib.pyplot as plt"
   ]
  },
  {
   "cell_type": "code",
   "execution_count": 11,
   "metadata": {},
   "outputs": [],
   "source": [
    "import seaborn as sns"
   ]
  },
  {
   "cell_type": "code",
   "execution_count": 16,
   "metadata": {},
   "outputs": [
    {
     "data": {
      "image/png": "[encoded data removed]",
      "text/plain": [
       "<Figure size 720x432 with 2 Axes>"
      ]
     },
     "metadata": {
      "needs_background": "light"
     },
     "output_type": "display_data"
    }
   ],
   "source": [
    "matrix = np.triu(df.corr())\n",
    "\n",
    "plt.figure(figsize = (10,6))\n",
    "ax = sns.heatmap(df.corr(), annot=True, linewidths=.5,\n",
    "                 annot_kws={'fontsize':15, 'fontweight':'bold'},\n",
    "                 mask=matrix, fmt=\".2%\")"
   ]
  },
  {
   "cell_type": "code",
   "execution_count": null,
   "metadata": {},
   "outputs": [],
   "source": []
  }
 ],
 "metadata": {
  "kernelspec": {
   "display_name": "Python 3",
   "language": "python",
   "name": "python3"
  },
  "language_info": {
   "codemirror_mode": {
    "name": "ipython",
    "version": 3
   },
   "file_extension": ".py",
   "mimetype": "text/x-python",
   "name": "python",
   "nbconvert_exporter": "python",
   "pygments_lexer": "ipython3",
   "version": "3.10.5"
  },
  "orig_nbformat": 4
 },
 "nbformat": 4,
 "nbformat_minor": 2
}
